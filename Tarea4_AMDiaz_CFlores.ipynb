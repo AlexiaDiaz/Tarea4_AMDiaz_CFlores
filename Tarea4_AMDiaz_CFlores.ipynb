{
 "cells": [
  {
   "cell_type": "markdown",
   "metadata": {},
   "source": [
    "<img style=\"float: left; margin: 30px 15px 15px 15px;\" src=\"https://pngimage.net/wp-content/uploads/2018/06/logo-iteso-png-5.png\" width=\"300\" height=\"500\" /> "
   ]
  },
  {
   "cell_type": "markdown",
   "metadata": {},
   "source": [
    "### <font color='navy'> Simulación de procesos financieros. \n",
    "\n",
    "**Nombres:**  \n",
    "    \n",
    "    Estudiante 1. Alexia Marisol Díaz Verduzco     \n",
    "    Estudiante 2. Carolina Flores Luelmo  \n",
    "    \n",
    "    \n",
    "**Fecha:** 21 de septiembre del 2021.\n",
    "\n",
    "**Expedientes** :  \n",
    "    \n",
    "    Estudiante 1. if720500  \n",
    "    Estudiante 2. if713578  \n",
    "    \n",
    "**Profesor:** Oscar David Jaramillo Zuluaga.\n",
    "    \n",
    "**Link Github**: https://github.com/AlexiaDiaz/Tarea4_AMDiaz_CFlores.git\n",
    "# Tarea 4: Clase 7. Ejemplos de Simulación"
   ]
  },
  {
   "cell_type": "markdown",
   "metadata": {},
   "source": [
    "## Enunciado tarea\n",
    "> # Simular dado cargado\n",
    "Si el usuario tira cualquier número entre 1 y 50, el casino gana. Si el usuario tira cualquier número entre 51 y 99, el usuario gana. Si el usuario tira 100, pierde.\n",
    "\n",
    "> # Ejercicio 1\n",
    "Como ejemplo simple de una simulación de Monte Carlo, considere calcular la probabilidad de una suma particular del lanzamiento de tres dados (cada dado tiene valores del uno al seis). Además cada dado tiene las siguientes carácterísticas: el primer dado no está cargado (distribución uniforme todos son equiprobables); el segundo y tercer dado están cargados basados en una distribución binomial con parámetros (n=5, p=0.5 y n=5, p=0.2). Calcule la probabilidad de que la suma resultante sea 7, 14 o 18.\n",
    "\n",
    "> # Ejercicio 2. Cafetería Central\n",
    "\n",
    "Premisas para la simulación:\n",
    "- Negocio de alimentos que vende bebidas y alimentos.\n",
    "- Negocio dentro del ITESO.\n",
    "- Negocio en cafetería central.\n",
    "- Tipo de clientes (hombres y mujeres).\n",
    "- Rentabilidad del 60%.\n",
    "\n",
    "### Objetivo\n",
    "Realizar una simulación estimado el tiempo medio que se tardaran los clientes en ser atendidos entre el horario de 6:30 a 1 pm. Además saber el consumo. \n",
    "**Analizar supuestos y limitantes**\n",
    "\n",
    "### Supuestos en simulación\n",
    "Clasificación de clientes: \n",
    "- Mujer  = 1 $\\longrightarrow$ aleatorio < 0.5\n",
    "- Hombre = 0 $\\longrightarrow$ aleatorio $\\geq$ 0.5.\n",
    "\n",
    "Condiciones iniciales:\n",
    "- Todas las distrubuciones de probabilidad se supondrán uniformes.\n",
    "- Tiempo de simulación: 6:30 am - 1:30pm $\\longrightarrow$ T = 7 horas = 25200 seg.\n",
    "- Tiempo de llegada hasta ser atendido: Min=5seg, Max=30seg.\n",
    "- Tiempo que tardan los clientes en ser atendidos:\n",
    "    - Mujer: Min = 1 min= 60seg, Max = 5 min = 300 seg\n",
    "    - Hombre: Min = 40 seg, Max = 2 min= 120 seg\n",
    "- Consumo según el tipo de cliente:\n",
    "    - Mujer: Min = 30 pesos, Max = 100 pesos\n",
    "    - Hombre: Min = 20 pesos, Max = 80 pesos\n",
    "\n",
    "Responder las siguientes preguntas basados en los datos del problema:\n",
    "1. ¿Cuáles fueron los gastos de los hombres y las mujeres en 5 días de trabajo?.\n",
    "2. ¿Cuál fue el consumo promedio de los hombres y mujeres?\n",
    "3. ¿Cuál fue el número de personas atendidas por día?\n",
    "4. ¿Cuál fue el tiempo de atención promedio?\n",
    "5. ¿Cuánto fue la ganancia promedio de la cafetería en 5 días de trabajo y su respectiva rentabilidad?"
   ]
  },
  {
   "cell_type": "markdown",
   "metadata": {},
   "source": [
    "# Simular dado cargado"
   ]
  },
  {
   "cell_type": "markdown",
   "metadata": {},
   "source": [
    "### Solución Estudiante 1. Alexia"
   ]
  },
  {
   "cell_type": "code",
   "execution_count": 1,
   "metadata": {},
   "outputs": [],
   "source": [
    "import numpy as np\n",
    "import matplotlib.pyplot as plt\n",
    "import pandas as pd\n",
    "import scipy.stats as st"
   ]
  },
  {
   "cell_type": "code",
   "execution_count": 2,
   "metadata": {},
   "outputs": [
    {
     "data": {
      "text/plain": [
       "<BarContainer object of 6 artists>"
      ]
     },
     "execution_count": 2,
     "metadata": {},
     "output_type": "execute_result"
    },
    {
     "data": {
      "image/png": "[encoded data removed]",
      "text/plain": [
       "<Figure size 432x288 with 1 Axes>"
      ]
     },
     "metadata": {
      "needs_background": "light"
     },
     "output_type": "display_data"
    }
   ],
   "source": [
    "np.random.seed(344)\n",
    "def dado_cargado(N:'número de lanzamientos'):\n",
    "    n,p = 5,0.5\n",
    "    sim_dado= st.binom.rvs(n,p,size=1000)\n",
    "    y,x = np.histogram(sim_dado, bins =6, density =True)\n",
    "    return plt.bar(range(1,7), y)\n",
    "dado_cargado(1000)"
   ]
  },
  {
   "cell_type": "markdown",
   "metadata": {},
   "source": [
    "### Solución Estudiante 2. Carolina"
   ]
  },
  {
   "cell_type": "code",
   "execution_count": null,
   "metadata": {},
   "outputs": [],
   "source": []
  },
  {
   "cell_type": "code",
   "execution_count": null,
   "metadata": {},
   "outputs": [],
   "source": []
  },
  {
   "cell_type": "markdown",
   "metadata": {},
   "source": [
    "# Ejercicio 1"
   ]
  },
  {
   "cell_type": "markdown",
   "metadata": {},
   "source": [
    "### Solución Estudiante 1. Alexia"
   ]
  },
  {
   "cell_type": "code",
   "execution_count": 3,
   "metadata": {},
   "outputs": [],
   "source": [
    "# DADO 1. SUMA = 7\n",
    "np.random.seed(344)\n",
    "n = 500\n",
    "def suma7():\n",
    "    # Dado no cargado: distribución uniforme\n",
    "    dado1 = np.random.randint(1,7)\n",
    "    # DEF. dados cargados: aquel en el que las probabilidades de que salgan uno o más resultados son más altas que el resto.\n",
    "    dado2 = cargado = st.binom(n=5,p=0.5).rvs(1) # Dado cargado en una dist. binomial \n",
    "    dado3 = cargado = st.binom(n=5,p=0.2).rvs(1)\n",
    "    \n",
    "    suma_dados = dado1 + dado2 + dado3\n",
    "   \n",
    "    if suma_dados == 7:\n",
    "        return 1\n",
    "    else:\n",
    "        return 0\n",
    "resultado7 = [suma7() for i in range (n)]"
   ]
  },
  {
   "cell_type": "code",
   "execution_count": 4,
   "metadata": {},
   "outputs": [],
   "source": [
    "# DADO 2. SUMA = 14\n",
    "np.random.seed(344)\n",
    "def suma14():\n",
    "    dado1 = np.random.randint(1,7)\n",
    "    dado2 = cargado = st.binom(n=5,p=0.5).rvs(1) \n",
    "    dado3 = cargado = st.binom(n=5,p=0.2).rvs(1)\n",
    "    \n",
    "    suma_dados = dado1 + dado2 + dado3\n",
    "   \n",
    "    if suma_dados == 14:\n",
    "        return 1\n",
    "    else:\n",
    "        return 0\n",
    "\n",
    "resultado14 = [suma14() for i in range (n)]"
   ]
  },
  {
   "cell_type": "code",
   "execution_count": 5,
   "metadata": {},
   "outputs": [],
   "source": [
    "# DADO 3. SUMA = 18\n",
    "np.random.seed(344)\n",
    "def suma18():\n",
    "    dado1 = np.random.randint(1,7)\n",
    "    dado2 = cargado= st.binom(n=5,p=0.5).rvs(1) \n",
    "    dado3 = cargado=st.binom(n=5,p=0.2).rvs(1)\n",
    "    \n",
    "    suma_dados = dado1 + dado2 + dado3\n",
    "   \n",
    "    if suma_dados == 14:\n",
    "        return 1\n",
    "    else:\n",
    "        return 0\n",
    "\n",
    "resultado18 = [suma18() for i in range (n)]"
   ]
  },
  {
   "cell_type": "code",
   "execution_count": 6,
   "metadata": {},
   "outputs": [
    {
     "data": {
      "text/plain": [
       "(15.0, 0.0, 0.0)"
      ]
     },
     "execution_count": 6,
     "metadata": {},
     "output_type": "execute_result"
    }
   ],
   "source": [
    "probabilidad7 = (sum(resultado7)/n)*100\n",
    "\n",
    "probabilidad14 = (sum(resultado14)/n)*100\n",
    "\n",
    "probabilidad18 = (sum(resultado18)/n)*100\n",
    "\n",
    "probabilidad7, probabilidad14,probabilidad18"
   ]
  },
  {
   "cell_type": "markdown",
   "metadata": {},
   "source": [
    "Las probabilidades de que la suma de los *3 diferentes dados*, dos de ellos cargados con *distribución binomial* y el restante con *distribución uniforme* son de:\n",
    "\n",
    "- Probabildad de una suma igual a 7:  15%  \n",
    "- Probabildad de una suma igual a 14: 0%  \n",
    "- Probabildad de una suma igual a 18: 0%"
   ]
  },
  {
   "cell_type": "markdown",
   "metadata": {},
   "source": [
    "### Solución Estudiante 2. Carolina"
   ]
  },
  {
   "cell_type": "code",
   "execution_count": null,
   "metadata": {},
   "outputs": [],
   "source": []
  },
  {
   "cell_type": "code",
   "execution_count": null,
   "metadata": {},
   "outputs": [],
   "source": []
  },
  {
   "cell_type": "code",
   "execution_count": null,
   "metadata": {},
   "outputs": [],
   "source": []
  },
  {
   "cell_type": "markdown",
   "metadata": {},
   "source": [
    "# Ejercicio 2. Cafetería Central"
   ]
  },
  {
   "cell_type": "markdown",
   "metadata": {},
   "source": [
    "### Solución Estudiante 1. Alexia"
   ]
  },
  {
   "cell_type": "code",
   "execution_count": 7,
   "metadata": {},
   "outputs": [],
   "source": [
    "# Información proporcionada por la cafetería\n",
    "d = 5 #días de trabajo\n",
    "T =25200 #tiempo en segundos por cada día de trabajo\n",
    "T_at_min = 5; T_at_max = 30 #tiempo de llegada hasta ser atendido\n",
    "T_mujer_min =60; T_mujer_max = 300 #tiempo que tardan las mujeres en ser atendidas\n",
    "T_hombre_min = 40; T_hombre_max = 120 #tiempo que tardan los hombres en ser atendidos\n",
    "C_mujer_min = 30; C_mujer_max = 100 #consumo $ mujeres\n",
    "C_hombre_min = 20; C_hombre_max = 80 #consumo $ hombres"
   ]
  },
  {
   "cell_type": "code",
   "execution_count": 8,
   "metadata": {},
   "outputs": [],
   "source": [
    "# Declaración de funciones\n",
    "def tiempo():\n",
    "    cliente = np.random.random() #devolverá números flotantes en intervalo [0.0, 1.0).\n",
    "    i = np.random.randint(T_at_min,T_at_max+1)\n",
    "    \n",
    "    if cliente < 0.5:\n",
    "        mujer_i = np.random.randint(T_mujer_min,T_mujer_max+1)\n",
    "        tiempo_total = i+mujer_i\n",
    "    else:\n",
    "        hombre_i = np.random.randint(T_mujer_min,T_mujer_max+1)\n",
    "        tiempo_total = i+hombre_i\n",
    "    return(tiempo_total)\n",
    "\n",
    "def gasto():\n",
    "    cliente = np.random.random() \n",
    "    if cliente < 0.5:\n",
    "        gasto = np.random.randint(C_mujer_min,C_mujer_max+1)\n",
    "    else:\n",
    "        gasto = np.random.randint(C_mujer_min,C_mujer_max+1)\n",
    "    return(gasto)\n",
    "\n"
   ]
  },
  {
   "cell_type": "code",
   "execution_count": 9,
   "metadata": {},
   "outputs": [],
   "source": [
    "# Simulador para 5 días de trabajo\n",
    "gasto_5 = []\n",
    "tiempo_seg_5 = []\n",
    "total_clientes_5 = 0\n",
    "T_5 = T*5\n",
    "\n",
    "while sum(tiempo_seg_5)<=(T_5):\n",
    "    tiempo_seg_5.append(tiempo())\n",
    "    gasto_5.append(gasto())\n",
    "    total_clientes_5 += 1"
   ]
  },
  {
   "cell_type": "code",
   "execution_count": 10,
   "metadata": {},
   "outputs": [],
   "source": [
    "# Simulador para 1 día de trabajo\n",
    "gasto_1 = []\n",
    "tiempo_seg_1 = []\n",
    "total_clientes_1 = 0\n",
    "\n",
    "while sum(tiempo_seg_1)<=(T):\n",
    "        tiempo_seg_1.append(tiempo())\n",
    "        gasto_1.append(gasto())\n",
    "        total_clientes_1 += 1"
   ]
  },
  {
   "cell_type": "code",
   "execution_count": 11,
   "metadata": {},
   "outputs": [
    {
     "name": "stdout",
     "output_type": "stream",
     "text": [
      "1.¿Cuáles fueron los gastos de los hombres y las mujeres en 5 días de trabajo? 42892 pesos.\n",
      "2.¿Cuál fue el consumo promedio de los hombres y mujeres? 66.81102362204724 pesos.\n",
      "3.¿Cuál fue el número de personas atendidas por día? 127 personas\n",
      "4.¿Cuál fue el tiempo de atención promedio? 198.51181102362204 segundos.\n",
      "5.¿Cuánto fue la ganancia promedio de la cafetería en 5 días de trabajo y su respectiva rentabilidad? 8578.4 pesos.Con una rentabilidad de: 5147.04 pesos.\n"
     ]
    }
   ],
   "source": [
    "print(\"1.¿Cuáles fueron los gastos de los hombres y las mujeres en 5 días de trabajo?\",sum(gasto_5),'pesos.')\n",
    "print(\"2.¿Cuál fue el consumo promedio de los hombres y mujeres?\",sum(gasto_1)/total_clientes_1,'pesos.')\n",
    "print(\"3.¿Cuál fue el número de personas atendidas por día?\",total_clientes_1,'personas')\n",
    "print(\"4.¿Cuál fue el tiempo de atención promedio?\",sum(tiempo_seg_1)/total_clientes_1,'segundos.')\n",
    "print(\"5.¿Cuánto fue la ganancia promedio de la cafetería en 5 días de trabajo y su respectiva rentabilidad?\",sum(gasto_5)/5,'pesos.'\n",
    "      'Con una rentabilidad de:',sum(gasto_5)/5*0.6,'pesos.')"
   ]
  },
  {
   "cell_type": "markdown",
   "metadata": {},
   "source": [
    "### Solución Estudiante 2. Carolina"
   ]
  },
  {
   "cell_type": "code",
   "execution_count": null,
   "metadata": {},
   "outputs": [],
   "source": []
  },
  {
   "cell_type": "code",
   "execution_count": null,
   "metadata": {},
   "outputs": [],
   "source": []
  },
  {
   "cell_type": "code",
   "execution_count": null,
   "metadata": {},
   "outputs": [],
   "source": []
  }
 ],
 "metadata": {
  "kernelspec": {
   "display_name": "Python 3",
   "language": "python",
   "name": "python3"
  },
  "language_info": {
   "codemirror_mode": {
    "name": "ipython",
    "version": 3
   },
   "file_extension": ".py",
   "mimetype": "text/x-python",
   "name": "python",
   "nbconvert_exporter": "python",
   "pygments_lexer": "ipython3",
   "version": "3.7.3"
  }
 },
 "nbformat": 4,
 "nbformat_minor": 4
}
